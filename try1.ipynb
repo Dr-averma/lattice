{
 "cells": [
  {
   "cell_type": "code",
   "execution_count": 1,
   "id": "b738fe55-9517-408a-b04e-428720fa1123",
   "metadata": {},
   "outputs": [],
   "source": [
    "using Gmsh\n",
    "using GridapGmsh\n",
    "using Gridap\n",
    "using Gridap.Geometry\n",
    "using Gridap.TensorValues\n",
    "using Gridap.CellData\n",
    "using Gridap.ReferenceFEs\n",
    "using Gridap.Fields\n",
    "using LinearAlgebra\n",
    "using LineSearches: BackTracking"
   ]
  },
  {
   "cell_type": "code",
   "execution_count": 2,
   "id": "0e9c319e-18cb-4442-8c8a-4873290e3488",
   "metadata": {},
   "outputs": [
    {
     "name": "stdout",
     "output_type": "stream",
     "text": [
      "Info    : Reading 'Circular_Hexagon_notch.msh'...\n",
      "Info    : 747 entities\n",
      "Info    : 25417 nodes\n",
      "Info    : 50386 elements\n",
      "Info    : Done reading 'Circular_Hexagon_notch.msh'\n"
     ]
    },
    {
     "data": {
      "text/plain": [
       "3"
      ]
     },
     "execution_count": 2,
     "metadata": {},
     "output_type": "execute_result"
    }
   ],
   "source": [
    "\n",
    "# Constants and model setup\n",
    "const α = 10\n",
    "const β = 1\n",
    "const ls = 0.01\n",
    "const η = 1e-15\n",
    "const p = -0.5\n",
    "const GcI1 = 0.73\n",
    "const σcI1 = 2445.42\n",
    "const GcI2 = 0.28\n",
    "const σcI2 = 50.0\n",
    "model = GmshDiscreteModel(\"Circular_Hexagon_notch.msh\")\n",
    "labels = get_face_labeling(model)\n",
    "dimension = 2\n",
    "mat_tags = get_face_tag(labels, dimension)\n",
    "brick = get_tag_from_name(labels, \"Base\")\n",
    "mortar = get_tag_from_name(labels, \"Lattice\")\n"
   ]
  },
  {
   "cell_type": "code",
   "execution_count": 3,
   "id": "5d11c0d5-6898-4654-bf84-b67a04103777",
   "metadata": {},
   "outputs": [
    {
     "data": {
      "text/plain": [
       "mII (generic function with 1 method)"
      ]
     },
     "execution_count": 3,
     "metadata": {},
     "output_type": "execute_result"
    }
   ],
   "source": [
    "# Material fields\n",
    "function material_tag(tag)\n",
    "    if tag == brick\n",
    "        E = 1930.0; ν = 0.33; GcI = GcI1; σcI = σcI1\n",
    "    elseif tag == mortar\n",
    "        E = 30.0; ν = 0.4; GcI = GcI2; σcI = σcI2\n",
    "    end\n",
    "    GcII = α * GcI\n",
    "    σcII = β * σcI\n",
    "    λ = E * ν / ((1 + ν) * (1 - 2 * ν))\n",
    "    μ = E / (2 * (1 + ν))\n",
    "    k = λ + μ\n",
    "    ψ_Crit_I = σcI^2 / (2 * k)\n",
    "    ψ_Crit_II = σcII^2 / (2 * μ)\n",
    "    return λ, μ, k, GcI, GcII, ψ_Crit_I, ψ_Crit_II, σcI, σcII\n",
    "end\n",
    "function mI(tag)\n",
    "    λ, μ, k, GcI, GcII, ψ_Crit_I, ψ_Crit_II, σcI, σcII= material_tag(tag)\n",
    "    return 4 * GcI * k / (π * ls * σcI^2)\n",
    "end\n",
    "\n",
    "function mII(tag)\n",
    "    λ, μ, k, GcI, GcII, ψ_Crit_I, ψ_Crit_II, σcI, σcII= material_tag(tag)\n",
    "    return 4 * GcII * μ / (π * ls * σcII^2)\n",
    "end\n"
   ]
  },
  {
   "cell_type": "code",
   "execution_count": 4,
   "id": "15f3e436-992d-42cd-9133-72939a942462",
   "metadata": {},
   "outputs": [
    {
     "data": {
      "text/plain": [
       "SymFourthOrderTensorValue{2, Float64, 9}(0.5, 0.0, -0.5, 0.0, 0.5, 0.0, -0.5, 0.0, 0.5)"
      ]
     },
     "execution_count": 4,
     "metadata": {},
     "output_type": "execute_result"
    }
   ],
   "source": [
    "I2 = SymTensorValue{2,Float64}(1.0 ,0.0 ,1.0)\n",
    "I4 = I2⊗I2\n",
    "I4_sym = one(SymFourthOrderTensorValue{2,Float64})\n",
    "I4_vol = (1.0/2)*I4\n",
    "I4_dev = I4_sym  - I4_vol  "
   ]
  },
  {
   "cell_type": "code",
   "execution_count": 5,
   "id": "6c2c95b4-39eb-4c47-890e-4406bc0cfcae",
   "metadata": {},
   "outputs": [
    {
     "data": {
      "text/plain": [
       "degDer1 (generic function with 1 method)"
      ]
     },
     "execution_count": 5,
     "metadata": {},
     "output_type": "execute_result"
    }
   ],
   "source": [
    "function degDer1(ϕ,tag)\n",
    "    mIc = mI(tag)\n",
    "    g = ((ϕ-1)*(ϕ*(2*p+1)+1)*mIc)/((ϕ*ϕ*(mIc*p+1)+(ϕ*(mIc-2)+1))^2) \n",
    "    return g\n",
    "end"
   ]
  },
  {
   "cell_type": "code",
   "execution_count": 6,
   "id": "b0429fbf-6459-486b-9a70-abff78588953",
   "metadata": {},
   "outputs": [
    {
     "data": {
      "text/plain": [
       "degDer2 (generic function with 1 method)"
      ]
     },
     "execution_count": 6,
     "metadata": {},
     "output_type": "execute_result"
    }
   ],
   "source": [
    "function degDer2(ϕ,tag)\n",
    "    mIIc = mII(tag)\n",
    "    g = ((ϕ-1)*(ϕ*(2*p+1)+1)*mIIc)/((ϕ*ϕ*(mIIc*p+1)+(ϕ*(mIIc-2)+1))^2) \n",
    "    return g\n",
    "end"
   ]
  },
  {
   "cell_type": "code",
   "execution_count": 7,
   "id": "ef330edf-2e6c-4980-83d2-3965e0a42c12",
   "metadata": {},
   "outputs": [
    {
     "data": {
      "text/plain": [
       "σfun (generic function with 1 method)"
      ]
     },
     "execution_count": 7,
     "metadata": {},
     "output_type": "execute_result"
    }
   ],
   "source": [
    "function σfun(ε,ε_in,s_in,tag)\n",
    "    λ, μ, k, GcI, GcII, ψ_Crit_I, ψ_Crit_II, σcI, σcII= material_tag(tag)\n",
    "    mIc = mI(tag)\n",
    "    mIIc = mII(tag)\n",
    "    εdev = I4_dev ⊙ ε\n",
    "    σI = k*tr(ε)*one(ε)\n",
    "    σII = 2*μ*εdev\n",
    "    σ = ((1-s_in)^2 / ((1-s_in)^2 + ((mIc*s_in*(1 + p*s_in)))))*(σI) + ((1-s_in)^2 / ((1-s_in)^2 + ((mIIc*s_in*(1 + p*s_in)))))*(σII)\n",
    "    return  σ\n",
    "end  "
   ]
  },
  {
   "cell_type": "code",
   "execution_count": 8,
   "id": "cd64cb42-400a-4ed8-98c8-9ddbb854e6c2",
   "metadata": {},
   "outputs": [
    {
     "data": {
      "text/plain": [
       "Eigen (generic function with 1 method)"
      ]
     },
     "execution_count": 8,
     "metadata": {},
     "output_type": "execute_result"
    }
   ],
   "source": [
    "function Eigen(ε)\n",
    "    εArray = get_array(ε)\n",
    "    Λ, P = eigen(εArray)\n",
    "    ε1 = Λ[1]\n",
    "    ε2 = Λ[2]\n",
    "    if ε1 >= 0 &&  ε2 >= 0\n",
    "        Λpos = [ε1 0; 0 ε2]\n",
    "        Λneg = [0 0; 0 0]\n",
    "    elseif ε1 >= 0 &&  ε2 < 0\n",
    "        Λpos = [ε1 0; 0 0]\n",
    "        Λneg = [0 0; 0 ε2]\n",
    "    elseif ε1 < 0 &&  ε2 >= 0\n",
    "        Λpos = [0 0; 0 ε2]\n",
    "        Λneg = [ε1 0; 0 0]\n",
    "    elseif ε1 < 0 &&  ε2 < 0\n",
    "        Λpos = [0 0; 0 0]\n",
    "        Λneg = [ε1 0; 0 ε2]\n",
    "    end\n",
    "    εPos = TensorValue(P*Λpos*P')\n",
    "    εNeg = TensorValue(P*Λneg*P')\n",
    "    return εPos, εNeg\n",
    "end"
   ]
  },
  {
   "cell_type": "code",
   "execution_count": 9,
   "id": "cb957f1d-8d15-4d8e-8971-ab51ac4f08ac",
   "metadata": {},
   "outputs": [
    {
     "data": {
      "text/plain": [
       "ψPosTen (generic function with 1 method)"
      ]
     },
     "execution_count": 9,
     "metadata": {},
     "output_type": "execute_result"
    }
   ],
   "source": [
    "function ψPosTen(ε_in,tag)\n",
    "    λ, μ, k, GcI, GcII, ψ_Crit_I, ψ_Crit_II, σcI, σcII= material_tag(tag)\n",
    "    εdev = I4_dev ⊙ ε_in\n",
    "    εPos, εNeg = Eigen(εdev) \n",
    "    if tr(ε_in) > 0.0\n",
    "        ψPlus = 0.5*k*(tr(ε_in))^2\n",
    "    else\n",
    "        ψPlus = 0.0\n",
    "    end\n",
    "    return ψPlus\n",
    "end"
   ]
  },
  {
   "cell_type": "code",
   "execution_count": 10,
   "id": "a388d64c-aed4-442c-ba46-f8c9f62d04f3",
   "metadata": {},
   "outputs": [
    {
     "data": {
      "text/plain": [
       "ψPosShear (generic function with 1 method)"
      ]
     },
     "execution_count": 10,
     "metadata": {},
     "output_type": "execute_result"
    }
   ],
   "source": [
    "function ψPosShear(ε_in,tag)\n",
    "    λ, μ, k, GcI, GcII, ψ_Crit_I, ψ_Crit_II, σcI, σcII= material_tag(tag)\n",
    "    εdev = I4_dev ⊙ ε_in\n",
    "    εPos, εNeg = Eigen(εdev) \n",
    "    ψPlus = μ * (εPos ⊙ εPos)\n",
    "    return ψPlus\n",
    "end"
   ]
  },
  {
   "cell_type": "code",
   "execution_count": 11,
   "id": "7d9dc97a-de18-415f-b420-575837c297ff",
   "metadata": {},
   "outputs": [
    {
     "data": {
      "text/plain": [
       "new_EnergyState (generic function with 1 method)"
      ]
     },
     "execution_count": 11,
     "metadata": {},
     "output_type": "execute_result"
    }
   ],
   "source": [
    "function new_EnergyState(ψPlusPrev_in,ψhPos_in)\n",
    "  ψPlus_in = ψhPos_in\n",
    "  if ψPlus_in >= ψPlusPrev_in\n",
    "    ψPlus_out = ψPlus_in\n",
    "  else\n",
    "    ψPlus_out = ψPlusPrev_in\n",
    "  end\n",
    "  true,ψPlus_out\n",
    "end"
   ]
  },
  {
   "cell_type": "code",
   "execution_count": 12,
   "id": "0acc71e4-ea7f-4d15-83f9-8008d6a2e47d",
   "metadata": {},
   "outputs": [
    {
     "data": {
      "text/plain": [
       "EnergyState (generic function with 1 method)"
      ]
     },
     "execution_count": 12,
     "metadata": {},
     "output_type": "execute_result"
    }
   ],
   "source": [
    "function EnergyState(ψPlusPrev_in,ψhPos_in)\n",
    "  ψPlus_out = ψhPos_in\n",
    "  true,ψPlus_out\n",
    "end"
   ]
  },
  {
   "cell_type": "code",
   "execution_count": 13,
   "id": "fb3f2dd2-4509-4818-9ed7-15b5889f159e",
   "metadata": {},
   "outputs": [
    {
     "data": {
      "text/plain": [
       "project (generic function with 1 method)"
      ]
     },
     "execution_count": 13,
     "metadata": {},
     "output_type": "execute_result"
    }
   ],
   "source": [
    "function  project(q,model ,dΩ,order)\n",
    "    reffe = ReferenceFE(lagrangian ,Float64 ,order)\n",
    "    V = FESpace(model ,reffe ,conformity =:L2)\n",
    "    a(u,v) =∫(u*v)*dΩ\n",
    "    b(v) =∫(v*q)*dΩ\n",
    "    op = AffineFEOperator(a,b,V,V)\n",
    "    qh = Gridap.solve(op)\n",
    "    return  qh\n",
    "end"
   ]
  },
  {
   "cell_type": "code",
   "execution_count": 14,
   "id": "73652e63-4eef-4f3d-a239-31e24da4ffe6",
   "metadata": {},
   "outputs": [
    {
     "data": {
      "text/plain": [
       "SingleFieldFEFunction():\n",
       " num_cells: 50166\n",
       " DomainStyle: ReferenceDomain()\n",
       " Triangulation: BodyFittedTriangulation()\n",
       " Triangulation id: 13408448844510734170"
      ]
     },
     "execution_count": 14,
     "metadata": {},
     "output_type": "execute_result"
    }
   ],
   "source": [
    "order = 1\n",
    "reffe_PF = ReferenceFE(lagrangian ,Float64,order)\n",
    "V0_PF = TestFESpace(model ,reffe_PF;conformity =:H1)\n",
    "U_PF = TrialFESpace(V0_PF)\n",
    "sh = zero(V0_PF)"
   ]
  },
  {
   "cell_type": "code",
   "execution_count": 15,
   "id": "4c3a61f6-6015-4cc5-a841-9405583b0a6e",
   "metadata": {},
   "outputs": [
    {
     "data": {
      "text/plain": [
       "SingleFieldFEFunction():\n",
       " num_cells: 50166\n",
       " DomainStyle: ReferenceDomain()\n",
       " Triangulation: BodyFittedTriangulation()\n",
       " Triangulation id: 13408448844510734170"
      ]
     },
     "execution_count": 15,
     "metadata": {},
     "output_type": "execute_result"
    }
   ],
   "source": [
    "reffe_Disp = ReferenceFE(lagrangian,VectorValue{2,Float64},order)\n",
    "        V0_Disp = TestFESpace(model,reffe_Disp;\n",
    "          conformity=:H1,\n",
    "          dirichlet_tags=[\"BottomEdge\",\"TopEdge\"],\n",
    "          dirichlet_masks=[(true,true), (false,true)])\n",
    "\n",
    "uh = zero(V0_Disp)"
   ]
  },
  {
   "cell_type": "code",
   "execution_count": 16,
   "id": "1c63f2b1-bdb6-4f70-bf82-91e49655d58d",
   "metadata": {},
   "outputs": [
    {
     "data": {
      "text/plain": [
       "GenericMeasure()"
      ]
     },
     "execution_count": 16,
     "metadata": {},
     "output_type": "execute_result"
    }
   ],
   "source": [
    "degree = 2*order\n",
    "Ω= Triangulation(model)\n",
    "dΩ= Measure(Ω,degree) "
   ]
  },
  {
   "cell_type": "code",
   "execution_count": 17,
   "id": "3ff2d111-3082-40c5-adfe-7f8fea289770",
   "metadata": {},
   "outputs": [
    {
     "data": {
      "text/plain": [
       "GenericCellField():\n",
       " num_cells: 110\n",
       " DomainStyle: ReferenceDomain()\n",
       " Triangulation: BoundaryTriangulation()\n",
       " Triangulation id: 10835799873574994750"
      ]
     },
     "execution_count": 17,
     "metadata": {},
     "output_type": "execute_result"
    }
   ],
   "source": [
    "LoadTagId = get_tag_from_name(labels,\"TopEdge\")\n",
    "Γ_Load = BoundaryTriangulation(model,tags = LoadTagId)\n",
    "dΓ_Load = Measure(Γ_Load,degree)\n",
    "n_Γ_Load = get_normal_vector(Γ_Load)"
   ]
  },
  {
   "cell_type": "code",
   "execution_count": 18,
   "id": "944d4082-05e0-4c07-92dc-3a99da488287",
   "metadata": {},
   "outputs": [
    {
     "data": {
      "text/plain": [
       "NonlinearFESolver()"
      ]
     },
     "execution_count": 18,
     "metadata": {},
     "output_type": "execute_result"
    }
   ],
   "source": [
    "nls = NLSolver(\n",
    "  show_trace=true,\n",
    "  method=:newton,\n",
    "  linesearch=BackTracking(), iterations = 10)\n",
    "solver = FESolver(nls)"
   ]
  },
  {
   "cell_type": "code",
   "execution_count": 19,
   "id": "04dc192a-d714-45e4-b66e-043c7567456f",
   "metadata": {},
   "outputs": [
    {
     "data": {
      "text/plain": [
       "run_PF (generic function with 1 method)"
      ]
     },
     "execution_count": 19,
     "metadata": {},
     "output_type": "execute_result"
    }
   ],
   "source": [
    "function run_PF(x0,vApp,cache,tag,ψTenPrev_in,ψShearPrev_in)\n",
    "     λ, μ, k, GcI, GcII, ψ_Crit_I, ψ_Crit_II, σcI, σcII= material_tag(tag)\n",
    "     U_PF = TrialFESpace(V0_PF)\n",
    "     res(s,ϕ) = ∫((2/pi)*ls*∇(ϕ) ⋅ ∇(s) + (degDer1∘(s,GcI))*(ψTenPrev_in/GcI)*ϕ + (degDer2∘(s,GcII))*(ψShearPrev_in/GcII)*ϕ + ((1/pi)*(2-2*s)/ls)*ϕ)*dΩ\n",
    "     op = FEOperator(res,U_PF,V0_PF)\n",
    "     sh_out = FEFunction(U_PF,x0)\n",
    "     sh_out, cache = solve!(sh_out,solver,op,cache)\n",
    "  return sh_out, get_free_dof_values(sh_out), cache\n",
    "end"
   ]
  },
  {
   "cell_type": "code",
   "execution_count": 20,
   "id": "d1debe44-f599-4af6-868b-bba1dc2999bd",
   "metadata": {},
   "outputs": [
    {
     "data": {
      "text/plain": [
       "stepDisp (generic function with 1 method)"
      ]
     },
     "execution_count": 20,
     "metadata": {},
     "output_type": "execute_result"
    }
   ],
   "source": [
    "function  stepDisp(uh_in,sh_in,vApp,tag)\n",
    "    uApp1(x) = VectorValue(0.0,vApp)\n",
    "    uApp2(x) = VectorValue(0.0,0.0)\n",
    "    U_Disp = TrialFESpace(V0_Disp,[uApp1,uApp2])\n",
    "    a_Disp(u,v) = ∫( (ε(v)⊙(σ_fun ∘ (ε(u),ε(uh_in),sh_in,tag)) ) )*dΩ\n",
    "     b_Disp(v) = 0.0\n",
    "    op_Disp = AffineFEOperator(a_Disp ,b_Disp ,U_Disp ,V0_Disp)\n",
    "    uh_out = Gridap.solve(op_Disp)\n",
    "    return  uh_out\n",
    "end\n",
    "     "
   ]
  },
  {
   "cell_type": "code",
   "execution_count": 21,
   "id": "569b2914-55be-4953-b53d-7cbdf4af02ca",
   "metadata": {},
   "outputs": [
    {
     "data": {
      "text/plain": [
       "χFun2 (generic function with 1 method)"
      ]
     },
     "execution_count": 21,
     "metadata": {},
     "output_type": "execute_result"
    }
   ],
   "source": [
    "function χFun1(ψhTenPos_in,ψhShearPos_in)\n",
    "    χVal = (ψhTenPos_in/(ψhShearPos_in + ψhTenPos_in))^2\n",
    "    return χVal\n",
    "end\n",
    "\n",
    "function χFun2(ψhTenPos_in,ψhShearPos_in)\n",
    "    χVal = (ψhShearPos_in/(ψhShearPos_in + ψhTenPos_in))^2\n",
    "    return χVal\n",
    "end"
   ]
  },
  {
   "cell_type": "code",
   "execution_count": 22,
   "id": "01418523-6c30-4a41-805c-7cd31813c3a7",
   "metadata": {},
   "outputs": [
    {
     "data": {
      "text/plain": [
       "GcFunII (generic function with 1 method)"
      ]
     },
     "execution_count": 22,
     "metadata": {},
     "output_type": "execute_result"
    }
   ],
   "source": [
    "function GcFunI(χVal1, tag, GcI1, σcI1, GcI2, σcI2, α, β)\n",
    "    if tag == brick\n",
    "        GcI = GcI1; σcI = σcI1\n",
    "    elseif tag == mortar\n",
    "        GcI = GcI2; σcI = σcI2\n",
    "    end\n",
    "    GcII = α * GcI\n",
    "    σcII = β * σcI\n",
    "    Gc = GcII + (GcI - GcII)*χVal1\n",
    "    return Gc\n",
    "end\n",
    "\n",
    "function GcFunII(χVal2, tag, GcI1, σcI1, GcI2, σcI2, α, β)\n",
    "    if tag == brick\n",
    "        GcI = GcI1; σcI = σcI1\n",
    "    elseif tag == mortar\n",
    "        GcI = GcI2; σcI = σcI2\n",
    "    end\n",
    "    GcII = α * GcI\n",
    "    σcII = β * σcI\n",
    "    Gc = GcI + (GcII - GcI)*χVal2\n",
    "    return Gc\n",
    "end"
   ]
  },
  {
   "cell_type": "code",
   "execution_count": 23,
   "id": "e503db56-f455-465a-98e6-bf2edf6a545e",
   "metadata": {},
   "outputs": [
    {
     "data": {
      "text/plain": [
       "ψCritFun (generic function with 1 method)"
      ]
     },
     "execution_count": 23,
     "metadata": {},
     "output_type": "execute_result"
    }
   ],
   "source": [
    "function ψCritFun(χVal1,χVal2,tag)\n",
    "    λ, μ, k, GcI, GcII, ψ_Crit_I, ψ_Crit_II, σcI, σcII= material_tag(tag)\n",
    "    ψCrit_I_in = χVal1 * ψ_Crit_I\n",
    "    ψCrit_II_in = χVal2 * ψ_Crit_II\n",
    "    return ψCrit_I_in,ψCrit_II_in\n",
    "end"
   ]
  },
  {
   "cell_type": "code",
   "execution_count": 24,
   "id": "9be6f6c2-506b-41ad-9635-4c301766dd6a",
   "metadata": {},
   "outputs": [
    {
     "ename": "LoadError",
     "evalue": "UndefVarError: `GcI` not defined in local scope\nSuggestion: check for an assignment to a local variable that shadows a global of the same name.",
     "output_type": "error",
     "traceback": [
      "UndefVarError: `GcI` not defined in local scope\nSuggestion: check for an assignment to a local variable that shadows a global of the same name.",
      "",
      "Stacktrace:",
      " [1] GcFunI(χVal1::Float64, tag::Vector{Int8}, GcI1::Float64, σcI1::Float64, GcI2::Float64, σcI2::Float64, α::Int64, β::Int64)",
      "   @ Main ./In[22]:7",
      " [2] top-level scope",
      "   @ In[24]:37"
     ]
    }
   ],
   "source": [
    "# ============================ SIMULATION PARAMETERS ============================\n",
    "\n",
    "vApp = 0.0\n",
    "\n",
    "const vAppMax = 0.015\n",
    "\n",
    "delv = 0.01 / 50\n",
    "\n",
    "innerMax = 10\n",
    "\n",
    "count = 0\n",
    "\n",
    "Load = Float64[]\n",
    "\n",
    "Displacement = Float64[]\n",
    "\n",
    "push!(Load, 0.0)\n",
    "\n",
    "push!(Displacement, 0.0)\n",
    "\n",
    "# ============================ INITIAL MATERIAL FIELDS ============================\n",
    "\n",
    "χValPrev1 = 0.5\n",
    "\n",
    "χValPrev2 = 0.5\n",
    "\n",
    "χVal1 = CellState(χValPrev1, dΩ)\n",
    "\n",
    "χVal2 = CellState(χValPrev2, dΩ)\n",
    "\n",
    "GcPrevI = GcFunI(χValPrev1, mat_tags, GcI1, σcI1, GcI2, σcI2, α, β)\n",
    "\n",
    "GcPrevII = GcFunII(χValPrev2, mat_tags, GcI1, σcI1, GcI2, σcI2, α, β)\n",
    "\n",
    "ψCrit_I_Prev, ψCrit_II_Prev = ψCritFun(χValPrev1, χValPrev2, mat_tags)\n",
    "\n",
    "GcIV = project(CellState(GcPrevI, dΩ), model, dΩ, order)\n",
    "\n",
    "GcIIV = project(CellState(GcPrevII, dΩ), model, dΩ, order)\n",
    "\n",
    "ψTenPrev = CellState(ψCrit_I_Prev, dΩ)\n",
    "\n",
    "ψShearPrev = CellState(ψCrit_II_Prev, dΩ)\n",
    "\n",
    "x0_PF = zeros(Float64, num_free_dofs(V0_PF))\n",
    "\n",
    "cache_1 = nothing\n",
    "\n",
    "uh = zero(V0_Disp)\n",
    "\n",
    "sh = zero(V0_PF)\n",
    "\n",
    "# ============================ MAIN LOAD INCREMENT LOOP ============================\n",
    "\n",
    "while vApp < vAppMax\n",
    "\n",
    "    count += 1\n",
    "\n",
    "    delv = vApp <= 0.006 ? 0.006 / 40 : 5e-6\n",
    "\n",
    "    vApp += delv\n",
    "\n",
    "    println(\"\\n>>> Displacement Step $count: vApp = $(round(vApp, digits=6))\")\n",
    "\n",
    "    # ============================ INNER PHASE-FIELD ITERATION ============================\n",
    "\n",
    "    for inner = 1:innerMax\n",
    "\n",
    "        ψhTenPrev = project(ψTenPrev, model, dΩ, order)\n",
    "\n",
    "        ψhShearPrev = project(ψShearPrev, model, dΩ, order)\n",
    "\n",
    "        # Compute residual-based relative error\n",
    "\n",
    "        num = ∫(((2 / π) * ls * ∇(sh) ⋅ ∇(sh) +\n",
    "\n",
    "                 (degDer1∘(sh, GcIV)) * (ψhTenPrev / GcIV) * sh +\n",
    "\n",
    "                 (degDer2∘(sh, GcIIV)) * (ψhShearPrev / GcIIV) * sh -\n",
    "\n",
    "                 (2 / (π * ls)) * sh^2)) * dΩ\n",
    "\n",
    "        den = ∫((2 / (π * ls)) * sh) * dΩ\n",
    "\n",
    "        RelErr = abs(sum(num)) / abs(sum(den))\n",
    "\n",
    "        println(\"    Inner Iteration $inner | Relative Error = $(round(RelErr, digits=6))\")\n",
    "\n",
    "        # Solve phase-field\n",
    "\n",
    "        sh, x0_PF, cache_1 = run_PF(x0_PF, vApp, cache_1, mat_tags, ψhTenPrev, ψhShearPrev)\n",
    "\n",
    "        # Solve displacement field\n",
    "\n",
    "        uh = stepDisp(uh, sh, vApp, mat_tags)\n",
    "\n",
    "        # Compute updated energy contributions\n",
    "\n",
    "        ψhTenPos = ψPosTen∘(ε(uh), mat_tags)\n",
    "\n",
    "        ψhShearPos = ψPosShear∘(ε(uh), mat_tags)\n",
    "\n",
    "        update_state!(new_EnergyState, ψTenPrev, ψhTenPos)\n",
    "\n",
    "        update_state!(new_EnergyState, ψShearPrev, ψhShearPos)\n",
    "\n",
    "        # Compute mode mixity factors\n",
    "\n",
    "        χVal1 = χFun1∘(ψTenPrev, ψShearPrev)\n",
    "\n",
    "        χVal2 = χFun2∘(ψTenPrev, ψShearPrev)\n",
    "\n",
    "        # Update fracture parameters\n",
    "\n",
    "        GcIV = GcFunI(χVal1, mat_tags)\n",
    "\n",
    "        GcIIV = GcFunII(χVal2, mat_tags)\n",
    "\n",
    "        ψCrit_I_in, ψCrit_II_in = ψCritFun(χVal1, χVal2, mat_tags)\n",
    "\n",
    "        update_state!(new_EnergyState, ψTenPrev, ψCrit_I)\n",
    "\n",
    "        update_state!(new_EnergyState, ψShearPrev, ψCrit_II)\n",
    "\n",
    "\n",
    "\n",
    "        # Break if converged\n",
    "\n",
    "        if RelErr < 1e-4 || isnan(RelErr)\n",
    "\n",
    "            println(\"    Converged at Inner Iteration $inner\")\n",
    "\n",
    "            break\n",
    "\n",
    "        end\n",
    "\n",
    "    end\n",
    "\n",
    "\n",
    "\n",
    "    # ============================ POSTPROCESSING AND OUTPUT ============================\n",
    "\n",
    "    GcVal1 = project(GcIV, model, dΩ, order)\n",
    "\n",
    "    GcVal2 = project(GcIIV, model, dΩ, order)\n",
    "\n",
    "    χValC1 = project(χVal1, model, dΩ, order)\n",
    "\n",
    "    χValC2 = project(χVal2, model, dΩ, order)\n",
    "\n",
    "\n",
    "\n",
    "    # Reaction force at top edge\n",
    "\n",
    "    Node_Force = sum(∫(n_Γ_Load ⋅ (σfun∘(ε(uh), ε(uh), sh, GcVal1, GcVal2))) * dΓ_Load)\n",
    "\n",
    "\n",
    "\n",
    "    push!(Load, Node_Force[2])\n",
    "\n",
    "    push!(Displacement, vApp)\n",
    "\n",
    "\n",
    "\n",
    "    if mod(count, 20) == 0\n",
    "\n",
    "        writevtk(Ω, \"Modified_BKCriteria_Shear_SingleEdgeNotchPlate$count\",\n",
    "\n",
    "            cellfields = [\"uh\" => uh,\n",
    "\n",
    "                          \"s\" => sh,\n",
    "\n",
    "                          \"epsi\" => ε(uh),\n",
    "\n",
    "                          \"modefactorI\" => χValC1,\n",
    "\n",
    "                          \"modefactorII\" => χValC2])\n",
    "\n",
    "    end\n",
    "\n",
    "end"
   ]
  },
  {
   "cell_type": "code",
   "execution_count": null,
   "id": "6898d9eb-5016-4db2-a4b9-85b24f14acb6",
   "metadata": {},
   "outputs": [],
   "source": []
  }
 ],
 "metadata": {
  "kernelspec": {
   "display_name": "Julia 1.11.2",
   "language": "julia",
   "name": "julia-1.11"
  },
  "language_info": {
   "file_extension": ".jl",
   "mimetype": "application/julia",
   "name": "julia",
   "version": "1.11.2"
  }
 },
 "nbformat": 4,
 "nbformat_minor": 5
}
